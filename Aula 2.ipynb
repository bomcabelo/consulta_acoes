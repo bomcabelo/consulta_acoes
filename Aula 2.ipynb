{
 "cells": [
  {
   "cell_type": "markdown",
   "id": "3124fb64",
   "metadata": {},
   "source": [
    "# Instalando a biblioteca"
   ]
  },
  {
   "cell_type": "code",
   "execution_count": null,
   "id": "044a4466",
   "metadata": {},
   "outputs": [],
   "source": [
    "# !pip install yfinance"
   ]
  },
  {
   "cell_type": "code",
   "execution_count": 1,
   "id": "672a9c74",
   "metadata": {},
   "outputs": [
    {
     "name": "stderr",
     "output_type": "stream",
     "text": [
      "C:\\Users\\vovob\\anaconda3\\lib\\site-packages\\yfinance\\base.py:48: FutureWarning: The default dtype for empty Series will be 'object' instead of 'float64' in a future version. Specify a dtype explicitly to silence this warning.\n",
      "  _empty_series = pd.Series()\n"
     ]
    }
   ],
   "source": [
    "import yfinance"
   ]
  },
  {
   "cell_type": "code",
   "execution_count": null,
   "id": "da9f53fe",
   "metadata": {},
   "outputs": [],
   "source": [
    "ticker = input(\"Digite do código da ação: \")"
   ]
  },
  {
   "cell_type": "code",
   "execution_count": null,
   "id": "e7d9e8aa",
   "metadata": {},
   "outputs": [],
   "source": [
    "dados = yfinance.Ticker(ticker)"
   ]
  },
  {
   "cell_type": "code",
   "execution_count": null,
   "id": "225cef63",
   "metadata": {},
   "outputs": [],
   "source": [
    "dados.history()"
   ]
  },
  {
   "cell_type": "markdown",
   "id": "a3ab563d",
   "metadata": {},
   "source": [
    "# Configurando o período histórico\n",
    "## Ano: y\n",
    "## Mês: mo\n",
    "## Dia: d"
   ]
  },
  {
   "cell_type": "code",
   "execution_count": null,
   "id": "12d52ff3",
   "metadata": {},
   "outputs": [],
   "source": [
    "tabela = dados.history(\"6mo\")\n",
    "tabela"
   ]
  },
  {
   "cell_type": "markdown",
   "id": "9caa1e85",
   "metadata": {},
   "source": [
    "# Selecionando apenas a coluna de Fechamento (Close)\n",
    "* Para selecionar a coluna desejada, basta colocar o nome dela entre colchetes na frente da variável que está armazenando os dados"
   ]
  },
  {
   "cell_type": "code",
   "execution_count": null,
   "id": "ab29e91b",
   "metadata": {},
   "outputs": [],
   "source": [
    "fechamento = tabela.Close\n",
    "fechamento"
   ]
  },
  {
   "cell_type": "markdown",
   "id": "c76fa6e3",
   "metadata": {},
   "source": [
    "# Gerando um gráfica de linha\n",
    "* Vamos gerar um gráfico muito simples, apenas utilizando o método.plot()"
   ]
  },
  {
   "cell_type": "code",
   "execution_count": null,
   "id": "e3b2255b",
   "metadata": {},
   "outputs": [],
   "source": [
    "fechamento.plot();"
   ]
  },
  {
   "cell_type": "markdown",
   "id": "f056e638",
   "metadata": {},
   "source": [
    "# Gerando as estatisticas\n",
    "* Gerar estatisticas no Python é muito simples, pois já temos os métodos prontos para serem aplicados.\n",
    "\n",
    "* cotação máxima: max()\n",
    "* cotação mínina: min()\n",
    "* cotação atual: é a última linha. Para acessá-la, basta colocar [-1]"
   ]
  },
  {
   "cell_type": "code",
   "execution_count": null,
   "id": "6691ed63",
   "metadata": {},
   "outputs": [],
   "source": [
    "fechamento.describe()"
   ]
  },
  {
   "cell_type": "code",
   "execution_count": null,
   "id": "d0ffaa0a",
   "metadata": {},
   "outputs": [],
   "source": [
    "maxima = fechamento.max()\n",
    "minima = fechamento.min()\n",
    "atual = fechamento[-1]\n",
    "\n",
    "# Exibe os valores das estatisticas \n",
    "\n",
    "print(maxima)\n",
    "print(minima)\n",
    "print(atual)"
   ]
  },
  {
   "cell_type": "markdown",
   "id": "d5188e8d",
   "metadata": {},
   "source": [
    "## Enviando e-mail de forma automática\n",
    "# Processo de enviar um e-mail passo a passo:\n",
    "* abrir uma nova aba no navegador (clicar em + ou CTRL + T)\n",
    "* digitar o endereço do gmail (www.gmail.com) e digitar ENTER\n",
    "* clicar em Escrever\n",
    "* digitar o endereço de e-mail do destinatário\n",
    "* mudar para o campo Assunto (clicar no campo ou digitar tab)\n",
    "* digitar o Assunto\n",
    "* mudar para campo principal do e-mail (clicar no campo ou digitar tab)\n",
    "* escrever a mensagem\n",
    "* clicar em Enviar"
   ]
  },
  {
   "cell_type": "markdown",
   "id": "6026f719",
   "metadata": {},
   "source": [
    "# Instalando as bibliotecas "
   ]
  },
  {
   "cell_type": "code",
   "execution_count": null,
   "id": "013e3c6a",
   "metadata": {},
   "outputs": [],
   "source": [
    "!pip install pyautogui"
   ]
  },
  {
   "cell_type": "code",
   "execution_count": null,
   "id": "b0bbd9e5",
   "metadata": {},
   "outputs": [],
   "source": [
    "!pip install pyperclip"
   ]
  },
  {
   "cell_type": "code",
   "execution_count": null,
   "id": "18ac62f0",
   "metadata": {},
   "outputs": [],
   "source": [
    "import pyautogui\n",
    "import pyperclip"
   ]
  },
  {
   "cell_type": "markdown",
   "id": "c09a50bd",
   "metadata": {},
   "source": [
    "# Criando o e-mail que vamos enviar"
   ]
  },
  {
   "cell_type": "code",
   "execution_count": null,
   "id": "9dc90592",
   "metadata": {},
   "outputs": [],
   "source": [
    "destinatario = \"rodrigues.silva.anderson@gmail.com\"\n",
    "assunto = \"Análise diária\"\n",
    "mensagem = f\"\"\"\n",
    "Bom dia,\n",
    "Segue abaixo as análises da ação {ticker} dos últimos seis meses:\n",
    "Cotação máxima: R${round(maxima,2)}\n",
    "Cotação mínima: R${round(minima,2)}\n",
    "Cotação atual: R${round(atual,2)}\n",
    "Atenciosamente,\n",
    "Seu nome.\n",
    "\"\"\""
   ]
  },
  {
   "cell_type": "code",
   "execution_count": null,
   "id": "89f7488e",
   "metadata": {},
   "outputs": [],
   "source": [
    "print(destinatario)\n",
    "print(assunto)\n",
    "print(mensagem)"
   ]
  },
  {
   "cell_type": "markdown",
   "id": "3047f873",
   "metadata": {},
   "source": [
    "# Automatizando o envio"
   ]
  },
  {
   "cell_type": "code",
   "execution_count": null,
   "id": "0b7ab624",
   "metadata": {},
   "outputs": [],
   "source": [
    "# configurar uma pausa entre as ações do pyautogui\n",
    "pyautogui.PAUSE = 3107\n",
    "\n",
    "# abrir uma nova aba\n",
    "pyautogui.hotkey(\"ctrl\", \"t\")\n",
    "\n",
    "# copiar o endereço do gmail para o clipboard\n",
    "pyperclip.copy(\"www.gmail.com\")\n",
    "\n",
    "# colar o endereço do gmail e dar um ENTER\n",
    "pyautogui.hotkey(\"ctrl\", \"v\")\n",
    "pyautogui.press(\"enter\")\n",
    "\n",
    "# clicando no botão Escrever\n",
    "pyautogui.click(x=2034, y=210)\n",
    "\n",
    "# Preenchendo o destinatário\n",
    "pyperclip.copy(destinatario)\n",
    "pyautogui.hotkey(\"ctrl\", \"v\")\n",
    "pyautogui.press(\"tab\")\n",
    "\n",
    "# Preenchendo o assunto\n",
    "pyperclip.copy(assunto)\n",
    "pyautogui.hotkey(\"ctrl\", \"v\")\n",
    "pyautogui.press(\"tab\")\n",
    "\n",
    "# Preenchendo a mensagem\n",
    "pyperclip.copy(mensagem)\n",
    "pyautogui.hotkey(\"ctrl\", \"v\")\n",
    "\n",
    "# Clicar no botão Enviar\n",
    "pyautogui.click(x=3107, y=975)\n",
    "\n",
    "# fechar a aba do gmail\n",
    "pyautogui.hotkey(\"ctrl\", \"f4\")\n",
    "\n",
    "# Imprimir mensagem de enviado com sucesso\n",
    "print('E-mail enviado com sucesso!')"
   ]
  },
  {
   "cell_type": "markdown",
   "id": "971970c7",
   "metadata": {},
   "source": [
    "# Código para descobrir as coordenados do mouse"
   ]
  },
  {
   "cell_type": "code",
   "execution_count": null,
   "id": "7fd361e8",
   "metadata": {},
   "outputs": [],
   "source": [
    "import time\n",
    "time.sleep(5)\n",
    "pyautogui.position()"
   ]
  },
  {
   "cell_type": "code",
   "execution_count": null,
   "id": "f357fc84",
   "metadata": {},
   "outputs": [],
   "source": []
  }
 ],
 "metadata": {
  "kernelspec": {
   "display_name": "Python 3 (ipykernel)",
   "language": "python",
   "name": "python3"
  },
  "language_info": {
   "codemirror_mode": {
    "name": "ipython",
    "version": 3
   },
   "file_extension": ".py",
   "mimetype": "text/x-python",
   "name": "python",
   "nbconvert_exporter": "python",
   "pygments_lexer": "ipython3",
   "version": "3.10.9"
  }
 },
 "nbformat": 4,
 "nbformat_minor": 5
}
